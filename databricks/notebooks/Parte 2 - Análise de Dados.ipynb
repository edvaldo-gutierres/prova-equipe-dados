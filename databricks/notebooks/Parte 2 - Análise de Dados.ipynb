{
 "cells": [
  {
   "cell_type": "markdown",
   "metadata": {
    "application/vnd.databricks.v1+cell": {
     "cellMetadata": {
      "byteLimit": 2048000,
      "rowLimit": 10000
     },
     "inputWidgets": {},
     "nuid": "14fb23d7-1890-473c-b7fd-450d38aeb068",
     "showTitle": false,
     "tableResultSettingsMap": {},
     "title": ""
    }
   },
   "source": [
    "# Parte 2 - Análise de Dados\n",
    "\n",
    "Um dos problemas mais clássicos do mercado de e-commerce é o carrinho abandonado. \n",
    "<br><br>\n",
    "Carrinho \n",
    "abandonado é aquele em que o cliente seleciona produtos para compra no e-commerce, mas não \n",
    "finaliza o processo. \n",
    "<br><br> Algumas das estratégias para recuperá-lo são investir em remarketing, flexibilizar \n",
    "o frete e melhorar o checkout. \n",
    "Analisar os dados desse evento é fundamental para que as empresas tentem entender o porquê que \n",
    "os clientes estão desistindo das compras. <br><br>\n",
    "Esse projeto visa ajudar a Cantu a coletar informações relacionadas a esse evento."
   ]
  },
  {
   "cell_type": "markdown",
   "metadata": {
    "application/vnd.databricks.v1+cell": {
     "cellMetadata": {
      "byteLimit": 2048000,
      "rowLimit": 10000
     },
     "inputWidgets": {},
     "nuid": "bb014ca2-8e30-4278-8777-e9290112531c",
     "showTitle": false,
     "tableResultSettingsMap": {},
     "title": ""
    }
   },
   "source": [
    "Considerando a seguinte estrutura e relacionamento dos dados\n",
    "\n",
    "![ER](ER.png)\n",
    "\n",
    "\n",
    "Responda os seguintes questionamentos para ajudar a área responsável: \n",
    "- Quais os produtos que mais tiveram carrinhos abandonados? \n",
    "- Quais as duplas de produtos em conjunto que mais tiveram carrinhos abandonados? \n",
    "- Quais produtos tiveram um aumento de abandono? \n",
    "- Quais os produtos novos e a quantidade de carrinhos no seu primeiro mês de lançamento? \n",
    "- Quais estados tiveram mais abandonos? \n",
    "\n",
    "---"
   ]
  },
  {
   "cell_type": "markdown",
   "metadata": {
    "application/vnd.databricks.v1+cell": {
     "cellMetadata": {
      "byteLimit": 2048000,
      "rowLimit": 10000
     },
     "inputWidgets": {},
     "nuid": "fc1dbe8a-5145-4da5-85f8-d00dd5a3737c",
     "showTitle": false,
     "tableResultSettingsMap": {},
     "title": ""
    }
   },
   "source": [
    "# Definição de bibliotecas e funções úteis"
   ]
  },
  {
   "cell_type": "code",
   "execution_count": 0,
   "metadata": {
    "application/vnd.databricks.v1+cell": {
     "cellMetadata": {
      "byteLimit": 2048000,
      "rowLimit": 10000
     },
     "inputWidgets": {},
     "nuid": "b7e95b69-cbbd-466c-8086-eb8a85c6433b",
     "showTitle": true,
     "tableResultSettingsMap": {},
     "title": "Importa bibliotecas"
    }
   },
   "outputs": [],
   "source": [
    "from pyspark.sql import functions as F\n",
    "from pyspark.sql.types import StructType, StructField, StringType, DateType, FloatType, IntegerType, DoubleType\n",
    "from datetime import datetime\n",
    "from pyspark.sql.window import Window\n",
    "from collections import Counter\n",
    "from itertools import combinations"
   ]
  },
  {
   "cell_type": "code",
   "execution_count": 0,
   "metadata": {
    "application/vnd.databricks.v1+cell": {
     "cellMetadata": {
      "byteLimit": 2048000,
      "rowLimit": 10000
     },
     "inputWidgets": {},
     "nuid": "03423d99-9c3a-4082-8a2a-267285e1654b",
     "showTitle": true,
     "tableResultSettingsMap": {},
     "title": "Define parâmetros"
    }
   },
   "outputs": [],
   "source": [
    "catalog_name = 'datacraft_catalog'"
   ]
  },
  {
   "cell_type": "markdown",
   "metadata": {
    "application/vnd.databricks.v1+cell": {
     "cellMetadata": {
      "byteLimit": 2048000,
      "rowLimit": 10000
     },
     "inputWidgets": {},
     "nuid": "11bd5ec0-4429-4863-a1ab-78ef9f34b871",
     "showTitle": false,
     "tableResultSettingsMap": {},
     "title": ""
    }
   },
   "source": [
    "# Carregando os dados"
   ]
  },
  {
   "cell_type": "code",
   "execution_count": 0,
   "metadata": {
    "application/vnd.databricks.v1+cell": {
     "cellMetadata": {
      "byteLimit": 2048000,
      "rowLimit": 10000
     },
     "inputWidgets": {},
     "nuid": "6fe40468-108f-464f-b6e9-520cbcc30868",
     "showTitle": true,
     "tableResultSettingsMap": {},
     "title": "tb_addresses"
    }
   },
   "outputs": [],
   "source": [
    "tb_addresses = ( spark\n",
    "      .read\n",
    "      .format(\"parquet\")\n",
    "      .load(\"/Volumes/datacraft_catalog/cantu/e-commerce/tb_addresses.parquet\") )\n",
    "\n",
    "# tb_addresses.display()"
   ]
  },
  {
   "cell_type": "code",
   "execution_count": 0,
   "metadata": {
    "application/vnd.databricks.v1+cell": {
     "cellMetadata": {
      "byteLimit": 2048000,
      "rowLimit": 10000
     },
     "inputWidgets": {},
     "nuid": "eb171c77-9b6c-4837-88f6-eb0a2ab5113f",
     "showTitle": true,
     "tableResultSettingsMap": {},
     "title": "tb_cartentries"
    }
   },
   "outputs": [],
   "source": [
    "tb_cartentries = ( spark\n",
    "      .read\n",
    "      .format(\"parquet\")\n",
    "      .load(\"/Volumes/datacraft_catalog/cantu/e-commerce/tb_cartentries.parquet\") )\n",
    "\n",
    "# tb_cartentries.display()"
   ]
  },
  {
   "cell_type": "code",
   "execution_count": 0,
   "metadata": {
    "application/vnd.databricks.v1+cell": {
     "cellMetadata": {
      "byteLimit": 2048000,
      "rowLimit": 10000
     },
     "inputWidgets": {},
     "nuid": "abd1dc45-300f-47ed-bd96-7c71775e5efa",
     "showTitle": true,
     "tableResultSettingsMap": {},
     "title": "tb_carts"
    }
   },
   "outputs": [],
   "source": [
    "tb_carts = ( spark\n",
    "      .read\n",
    "      .format(\"parquet\")\n",
    "      .load(\"/Volumes/datacraft_catalog/cantu/e-commerce/tb_carts.parquet\") )\n",
    "\n",
    "# tb_carts.display()"
   ]
  },
  {
   "cell_type": "code",
   "execution_count": 0,
   "metadata": {
    "application/vnd.databricks.v1+cell": {
     "cellMetadata": {
      "byteLimit": 2048000,
      "rowLimit": 10000
     },
     "inputWidgets": {},
     "nuid": "1c9c5b0e-d86b-48f4-af81-a0616ee42b86",
     "showTitle": true,
     "tableResultSettingsMap": {},
     "title": "tb_cmssitelp"
    }
   },
   "outputs": [],
   "source": [
    "tb_cmssitelp = ( spark\n",
    "      .read\n",
    "      .format(\"csv\")\n",
    "      .option(\"header\", \"true\")\n",
    "      .option(\"delimiter\", \"|\")\n",
    "      .load(\"/Volumes/datacraft_catalog/cantu/e-commerce/tb_cmssitelp.csv\") )\n",
    "\n",
    "# tb_cmssitelp.display()"
   ]
  },
  {
   "cell_type": "code",
   "execution_count": 0,
   "metadata": {
    "application/vnd.databricks.v1+cell": {
     "cellMetadata": {
      "byteLimit": 2048000,
      "rowLimit": 10000
     },
     "inputWidgets": {},
     "nuid": "bd0ad5bf-7df5-4c41-a581-83d9e1e1405a",
     "showTitle": true,
     "tableResultSettingsMap": {},
     "title": "tb_paymentinfos"
    }
   },
   "outputs": [],
   "source": [
    "tb_paymentinfos = ( spark\n",
    "      .read\n",
    "      .format(\"parquet\")\n",
    "      .load(\"/Volumes/datacraft_catalog/cantu/e-commerce/tb_paymentinfos.parquet\") )\n",
    "\n",
    "# tb_paymentinfos.display()"
   ]
  },
  {
   "cell_type": "code",
   "execution_count": 0,
   "metadata": {
    "application/vnd.databricks.v1+cell": {
     "cellMetadata": {
      "byteLimit": 2048000,
      "rowLimit": 10000
     },
     "inputWidgets": {},
     "nuid": "5ed2a710-de5e-4d90-b0c2-7baeecf69314",
     "showTitle": true,
     "tableResultSettingsMap": {},
     "title": "tb_paymentmodes"
    }
   },
   "outputs": [],
   "source": [
    "tb_paymentmodes = ( spark\n",
    "      .read\n",
    "      .format(\"csv\")\n",
    "      .option(\"header\", \"true\")\n",
    "      .option(\"delimiter\", \"|\")\n",
    "      .load(\"/Volumes/datacraft_catalog/cantu/e-commerce/tb_paymentmodes.csv\") )\n",
    "\n",
    "# tb_paymentmodes.display()"
   ]
  },
  {
   "cell_type": "code",
   "execution_count": 0,
   "metadata": {
    "application/vnd.databricks.v1+cell": {
     "cellMetadata": {
      "byteLimit": 2048000,
      "rowLimit": 10000
     },
     "inputWidgets": {},
     "nuid": "72e56273-d3fe-4052-8464-694c717e6534",
     "showTitle": true,
     "tableResultSettingsMap": {},
     "title": "tb_regions"
    }
   },
   "outputs": [],
   "source": [
    "tb_regions = ( spark\n",
    "      .read\n",
    "      .format(\"csv\")\n",
    "      .option(\"header\", \"true\")\n",
    "      .option(\"delimiter\", \"|\")\n",
    "      .load(\"/Volumes/datacraft_catalog/cantu/e-commerce/tb_regions.csv\") )\n",
    "\n",
    "# tb_regions.display()"
   ]
  },
  {
   "cell_type": "code",
   "execution_count": 0,
   "metadata": {
    "application/vnd.databricks.v1+cell": {
     "cellMetadata": {
      "byteLimit": 2048000,
      "rowLimit": 10000
     },
     "inputWidgets": {},
     "nuid": "665383cb-b896-496c-be2f-d41c09cc41dc",
     "showTitle": true,
     "tableResultSettingsMap": {},
     "title": "tb_users"
    }
   },
   "outputs": [],
   "source": [
    "tb_users = ( spark\n",
    "      .read\n",
    "      .format(\"csv\")\n",
    "      .option(\"header\", \"true\")\n",
    "      .option(\"delimiter\", \"|\")\n",
    "      .load(\"/Volumes/datacraft_catalog/cantu/e-commerce/tb_users.csv\") )\n",
    "\n",
    "# tb_users.display()"
   ]
  },
  {
   "cell_type": "code",
   "execution_count": 0,
   "metadata": {
    "application/vnd.databricks.v1+cell": {
     "cellMetadata": {
      "byteLimit": 2048000,
      "rowLimit": 10000
     },
     "inputWidgets": {},
     "nuid": "dd0ad0f0-ac29-47f2-b337-6068feb1ebbc",
     "showTitle": true,
     "tableResultSettingsMap": {},
     "title": "Cria view's temporárias"
    }
   },
   "outputs": [],
   "source": [
    "tb_addresses.createOrReplaceTempView(\"tb_addresses\")\n",
    "tb_cartentries.createOrReplaceTempView(\"tb_cartentries\")\n",
    "tb_carts.createOrReplaceTempView(\"tb_carts\")\n",
    "tb_cmssitelp.createOrReplaceTempView(\"tb_cmssitelp\")\n",
    "tb_paymentinfos.createOrReplaceTempView(\"tb_paymentinfos\")\n",
    "tb_paymentmodes.createOrReplaceTempView(\"tb_paymentmodes\")\n",
    "tb_regions.createOrReplaceTempView(\"tb_regions\")\n",
    "tb_users.createOrReplaceTempView(\"tb_users\")"
   ]
  },
  {
   "cell_type": "markdown",
   "metadata": {
    "application/vnd.databricks.v1+cell": {
     "cellMetadata": {
      "byteLimit": 2048000,
      "rowLimit": 10000
     },
     "inputWidgets": {},
     "nuid": "174fc961-f55c-4214-9e9c-587465e830cc",
     "showTitle": false,
     "tableResultSettingsMap": {},
     "title": ""
    }
   },
   "source": [
    "# Analise"
   ]
  },
  {
   "cell_type": "markdown",
   "metadata": {
    "application/vnd.databricks.v1+cell": {
     "cellMetadata": {
      "byteLimit": 2048000,
      "rowLimit": 10000
     },
     "inputWidgets": {},
     "nuid": "a631d4d5-1574-443f-bf4d-4f84e60322af",
     "showTitle": false,
     "tableResultSettingsMap": {},
     "title": ""
    }
   },
   "source": [
    "## ✅ 1. Quais os produtos que mais tiveram carrinhos abandonados?\n"
   ]
  },
  {
   "cell_type": "code",
   "execution_count": 0,
   "metadata": {
    "application/vnd.databricks.v1+cell": {
     "cellMetadata": {
      "byteLimit": 2048000,
      "rowLimit": 10000
     },
     "inputWidgets": {},
     "nuid": "fc4ffa97-b77b-4822-976c-7b951184dc0b",
     "showTitle": true,
     "tableResultSettingsMap": {},
     "title": "df_produtos_abandonados"
    }
   },
   "outputs": [],
   "source": [
    "df_carts = spark.table(\"tb_carts\")\n",
    "df_cartentries = spark.table(\"tb_cartentries\")\n",
    "\n",
    "df_produtos_abandonados = (\n",
    "    df_carts.alias(\"c\")\n",
    "    .join(df_cartentries.alias(\"ce\"), F.col(\"c.PK\") == F.col(\"ce.p_order\"), \"inner\")\n",
    "    .groupBy(F.col(\"ce.p_product\"))\n",
    "    .agg(F.countDistinct(F.col(\"c.PK\")).alias(\"qtde_abandonados\"))\n",
    "    .orderBy(F.desc(\"qtde_abandonados\"))\n",
    ")\n",
    "\n",
    "windowSpec = Window.partitionBy(\"p_product\").orderBy(F.desc(\"qtde_abandonados\"))\n",
    "df_produtos_abandonados = df_produtos_abandonados.withColumn(\"cumulative_sum\", F.sum(\"qtde_abandonados\").over(windowSpec))\n",
    "total_abandonados = df_produtos_abandonados.agg(F.sum(\"qtde_abandonados\")).collect()[0][0]\n",
    "df_produtos_abandonados = df_produtos_abandonados.withColumn(\"cumulative_perc\", F.col(\"cumulative_sum\") / total_abandonados * 100)\n",
    "\n",
    "df_produtos_abandonados = df_produtos_abandonados.withColumn(\n",
    "    \"ABC_class\",\n",
    "    F.when(F.col(\"cumulative_perc\") <= 80, \"A\")\n",
    "    .when((F.col(\"cumulative_perc\") > 80) & (F.col(\"cumulative_perc\") <= 95), \"B\")\n",
    "    .otherwise(\"C\")\n",
    ")\n",
    "\n",
    "display(df_produtos_abandonados.orderBy(F.desc(\"qtde_abandonados\")))"
   ]
  },
  {
   "cell_type": "markdown",
   "metadata": {
    "application/vnd.databricks.v1+cell": {
     "cellMetadata": {
      "byteLimit": 2048000,
      "rowLimit": 10000
     },
     "inputWidgets": {},
     "nuid": "fa27a439-a636-40a2-a143-77596285f653",
     "showTitle": false,
     "tableResultSettingsMap": {},
     "title": ""
    }
   },
   "source": [
    "Esta análise utiliza a classificação ABC para identificar os produtos mais frequentemente abandonados em carrinhos. \n",
    "Primeiro, calculamos a quantidade de abandonos por produto. Em seguida, ordenamos os produtos por frequência de abandono e calculamos a soma acumulada e o percentual acumulado. \n",
    "Com base nesses percentuais, classificamos os produtos em três categorias:\n",
    "- Classe A: representam até 80% dos abandonos (produtos mais críticos).\n",
    "- Classe B: representam de 80% a 95% dos abandonos.\n",
    "- Classe C: representam os 5% restantes.\n",
    "Essa abordagem auxilia na priorização de ações para reduzir o abandono de carrinhos, focando nos produtos mais impactantes."
   ]
  },
  {
   "cell_type": "markdown",
   "metadata": {
    "application/vnd.databricks.v1+cell": {
     "cellMetadata": {
      "byteLimit": 2048000,
      "rowLimit": 10000
     },
     "inputWidgets": {},
     "nuid": "23340dd1-18fd-4a77-b90d-83b4af2a02f7",
     "showTitle": false,
     "tableResultSettingsMap": {},
     "title": ""
    }
   },
   "source": [
    "## ✅ 2. Quais as duplas de produtos em conjunto que mais tiveram carrinhos abandonados?"
   ]
  },
  {
   "cell_type": "code",
   "execution_count": 0,
   "metadata": {
    "application/vnd.databricks.v1+cell": {
     "cellMetadata": {
      "byteLimit": 2048000,
      "rowLimit": 10000
     },
     "inputWidgets": {},
     "nuid": "16ac3048-c9c1-480d-8743-25bd713613e0",
     "showTitle": true,
     "tableResultSettingsMap": {},
     "title": "Algoritrimo de Combinações - Exemplo"
    }
   },
   "outputs": [],
   "source": [
    "# Exemplo de estrutura de carrinhos abandonados\n",
    "carrinhos_abandonados = {\n",
    "    100: ['Banana', 'Maça', 'Pera'],\n",
    "    101: ['Banana', 'Maça'],\n",
    "    103: ['Banana', 'Pera']\n",
    "}\n",
    "\n",
    "# Convertendo o dicionário em uma lista de tuplas\n",
    "carrinhos_abandonados_list = [(k, v) for k, v in carrinhos_abandonados.items()]\n",
    "\n",
    "df = spark.createDataFrame(carrinhos_abandonados_list, [\"carrinho_id\", \"produtos\"])\n",
    "\n",
    "# Coletar o resultado para o driver\n",
    "result_list = df.collect()\n",
    "\n",
    "def contar_combinacoes(carrinhos):\n",
    "    contador_pares = Counter()\n",
    "    for row in carrinhos:\n",
    "        produtos = row['produtos']\n",
    "        pares = combinations(sorted(set(produtos)), 2)\n",
    "        contador_pares.update(pares)\n",
    "    return contador_pares\n",
    "\n",
    "resultado = contar_combinacoes(result_list)\n",
    "\n",
    "# Converter o resultado para um DataFrame\n",
    "df_resultado = spark.createDataFrame(\n",
    "    [(produto1, produto2, qtd) for (produto1, produto2), qtd in resultado.items()],\n",
    "    [\"produto1\", \"produto2\", \"qtd_abandonos\"]\n",
    ")\n",
    "\n",
    "display(df_resultado.orderBy(F.desc(\"qtd_abandonos\")))"
   ]
  },
  {
   "cell_type": "code",
   "execution_count": 0,
   "metadata": {
    "application/vnd.databricks.v1+cell": {
     "cellMetadata": {
      "byteLimit": 2048000,
      "implicitDf": true,
      "rowLimit": 10000
     },
     "inputWidgets": {},
     "nuid": "4f92f43a-91a2-4e09-b200-244fcc268b9d",
     "showTitle": true,
     "tableResultSettingsMap": {},
     "title": "Duplas de Produto mais abandondas"
    }
   },
   "outputs": [],
   "source": [
    "tb_cartentries = spark.table(\"tb_cartentries\")\n",
    "\n",
    "result = tb_cartentries \\\n",
    "    .groupBy(\"p_order\") \\\n",
    "    .agg(F.collect_list(\"p_product\").alias(\"produtos\"))\n",
    "\n",
    "# Coletar o resultado para o driver\n",
    "result_list = result.collect()\n",
    "\n",
    "def contar_combinacoes(carrinhos):\n",
    "    contador_pares = Counter()\n",
    "    for row in carrinhos:\n",
    "        produtos = row['produtos']\n",
    "        pares = combinations(sorted(set(produtos)), 2)\n",
    "        contador_pares.update(pares)\n",
    "    return contador_pares\n",
    "\n",
    "resultado = contar_combinacoes(result_list)\n",
    "\n",
    "# Converter o resultado para um DataFrame\n",
    "df_resultado = spark.createDataFrame(\n",
    "    [(produto1, produto2, qtd) for (produto1, produto2), qtd in resultado.items()],\n",
    "    [\"produto1\", \"produto2\", \"qtd_abandonos\"]\n",
    ")\n",
    "\n",
    "display(df_resultado.orderBy(F.desc(\"qtd_abandonos\")).limit(1))"
   ]
  },
  {
   "cell_type": "markdown",
   "metadata": {
    "application/vnd.databricks.v1+cell": {
     "cellMetadata": {
      "byteLimit": 2048000,
      "rowLimit": 10000
     },
     "inputWidgets": {},
     "nuid": "f122066a-3d45-4128-9743-994dc0884254",
     "showTitle": false,
     "tableResultSettingsMap": {},
     "title": ""
    }
   },
   "source": [
    "## ✅ 3. Quais produtos tiveram um aumento de abandono?"
   ]
  },
  {
   "cell_type": "code",
   "execution_count": 0,
   "metadata": {
    "application/vnd.databricks.v1+cell": {
     "cellMetadata": {
      "byteLimit": 2048000,
      "rowLimit": 10000
     },
     "inputWidgets": {},
     "nuid": "06e32189-b1bf-49c9-9d68-9e7629c9d3aa",
     "showTitle": true,
     "tableResultSettingsMap": {},
     "title": "Exemplo - Aumento abandono"
    }
   },
   "outputs": [],
   "source": [
    "dados = [\n",
    "    {\"produto\": 10, \"data\": \"2024-01-15\"},\n",
    "    {\"produto\": 10, \"data\": \"2024-01-20\"},\n",
    "    {\"produto\": 10, \"data\": \"2024-02-10\"},\n",
    "    {\"produto\": 20, \"data\": \"2024-01-10\"},\n",
    "    {\"produto\": 20, \"data\": \"2024-02-15\"},\n",
    "    {\"produto\": 20, \"data\": \"2024-02-25\"},\n",
    "    {\"produto\": 30, \"data\": \"2024-02-01\"},\n",
    "    {\"produto\": 30, \"data\": \"2024-03-01\"},\n",
    "    {\"produto\": 30, \"data\": \"2024-03-10\"},\n",
    "    {\"produto\": 30, \"data\": \"2024-03-15\"},\n",
    "]\n",
    "\n",
    "df = spark.createDataFrame(dados)\n",
    "df = df.withColumn(\"data\", F.to_date(\"data\"))\n",
    "df = df.withColumn(\"mes\", F.date_format(\"data\", \"yyyy-MM\"))\n",
    "\n",
    "df_abandonos = (\n",
    "    df.groupBy(\"produto\", \"mes\")\n",
    "    .count()\n",
    "    .withColumnRenamed(\"count\", \"qtd_abandonos\")\n",
    "    .withColumn(\"mes_ord\", F.to_date(F.concat(F.col(\"mes\"), F.lit(\"-01\"))))\n",
    ")\n",
    "\n",
    "window_spec = Window.partitionBy(\"produto\").orderBy(\"mes_ord\")\n",
    "df_abandonos = df_abandonos.withColumn(\n",
    "    \"abandonos_anteriores\", F.lag(\"qtd_abandonos\").over(window_spec)\n",
    ")\n",
    "df_abandonos = df_abandonos.withColumn(\n",
    "    \"crescimento\", F.col(\"qtd_abandonos\") - F.col(\"abandonos_anteriores\")\n",
    ")\n",
    "\n",
    "produtos_com_aumento = df_abandonos.filter(F.col(\"crescimento\") > 0)\n",
    "\n",
    "display(produtos_com_aumento)"
   ]
  },
  {
   "cell_type": "markdown",
   "metadata": {
    "application/vnd.databricks.v1+cell": {
     "cellMetadata": {
      "byteLimit": 2048000,
      "rowLimit": 10000
     },
     "inputWidgets": {},
     "nuid": "d394ac28-30cf-4683-91de-e7f555dd5ea3",
     "showTitle": false,
     "tableResultSettingsMap": {},
     "title": ""
    }
   },
   "source": [
    "> No exemplo acima - o produto 10 não aparece no resultado final do algoritmo porque ele teve uma redução no número de abandonos em fevereiro comparado a janeiro."
   ]
  },
  {
   "cell_type": "code",
   "execution_count": 0,
   "metadata": {
    "application/vnd.databricks.v1+cell": {
     "cellMetadata": {
      "byteLimit": 2048000,
      "rowLimit": 10000
     },
     "inputWidgets": {},
     "nuid": "786a9360-40dc-4068-80db-b5d6e795aec5",
     "showTitle": true,
     "tableResultSettingsMap": {},
     "title": "Produtos com aumento de abandono"
    }
   },
   "outputs": [],
   "source": [
    "tb_cartentries = ( \n",
    "                  spark.table(\"tb_cartentries\")\n",
    "                  .select(\n",
    "                      F.col(\"p_product\").alias('produto'), \n",
    "                      F.col(\"createdTS\").try_cast('date').alias('data')\n",
    "                      )\n",
    "                  .filter('p_product is not null')\n",
    "                  )\n",
    "\n",
    "df = tb_cartentries.withColumn(\"mes\", F.date_format(\"data\", \"yyyy-MM\"))\n",
    "\n",
    "# Contar abandonos por produto e mês\n",
    "df_abandonos = df.groupBy(\"produto\", \"mes\").count().withColumnRenamed(\"count\", \"qtd_abandonos\")\n",
    "\n",
    "# Ordenar e calcular crescimento\n",
    "window_spec = Window.partitionBy(\"produto\").orderBy(\"mes\")\n",
    "df_abandonos = df_abandonos.withColumn(\"mes_ord\", F.to_date(F.concat(F.col(\"mes\"), F.lit(\"-01\"))))\n",
    "df_abandonos = df_abandonos.withColumn(\"abandonos_anteriores\", F.lag(\"qtd_abandonos\").over(window_spec))\n",
    "df_abandonos = df_abandonos.withColumn(\"crescimento\", F.col(\"qtd_abandonos\") - F.col(\"abandonos_anteriores\"))\n",
    "\n",
    "# Filtrar produtos com aumento\n",
    "df_crescimento = df_abandonos.filter(F.col(\"crescimento\") > 0).orderBy(F.desc(\"crescimento\"))\n",
    "\n",
    "# Exibe o resultado\n",
    "display(df_crescimento.orderBy(\"produto\", F.desc(\"mes\")))"
   ]
  },
  {
   "cell_type": "markdown",
   "metadata": {
    "application/vnd.databricks.v1+cell": {
     "cellMetadata": {
      "byteLimit": 2048000,
      "rowLimit": 10000
     },
     "inputWidgets": {},
     "nuid": "8c812a45-8212-4e4f-ae95-9d4ee3c1f6e0",
     "showTitle": false,
     "tableResultSettingsMap": {},
     "title": ""
    }
   },
   "source": [
    "\n",
    "O código acima realiza a análise de crescimento de abandonos de produtos em dois cenários diferentes.\n",
    "\n",
    "No primeiro cenário, os dados são fornecidos diretamente em uma lista de dicionários. O DataFrame é criado e processado para calcular o número de abandonos por produto e mês. Em seguida, é calculado o crescimento de abandonos em relação ao mês anterior para cada produto. Os produtos que apresentaram crescimento são filtrados e exibidos.\n",
    "\n",
    "No segundo cenário, os dados são lidos de uma tabela chamada 'tb_cartentries'. O DataFrame é processado de maneira similar ao primeiro cenário: os abandonos são contados por produto e mês, o crescimento é calculado, e os produtos com aumento de abandonos são filtrados e exibidos.\n",
    "\n",
    "Ambos os cenários utilizam funções do PySpark para manipulação e análise dos dados, incluindo a criação de colunas, agrupamento, ordenação e uso de janelas para cálculos de crescimento.\n"
   ]
  },
  {
   "cell_type": "markdown",
   "metadata": {
    "application/vnd.databricks.v1+cell": {
     "cellMetadata": {
      "byteLimit": 2048000,
      "rowLimit": 10000
     },
     "inputWidgets": {},
     "nuid": "b46aaab8-9504-4fd8-bce0-7fc140c73071",
     "showTitle": false,
     "tableResultSettingsMap": {},
     "title": ""
    }
   },
   "source": [
    "## ✅ 4. Quais os produtos novos e a quantidade de carrinhos no seu primeiro mês de lançamento? "
   ]
  },
  {
   "cell_type": "code",
   "execution_count": 0,
   "metadata": {
    "application/vnd.databricks.v1+cell": {
     "cellMetadata": {
      "byteLimit": 2048000,
      "rowLimit": 10000
     },
     "inputWidgets": {},
     "nuid": "055f8e7a-299d-4f9f-8a85-9ab7df5d93f8",
     "showTitle": true,
     "tableResultSettingsMap": {},
     "title": "Exemplo produtos novos"
    }
   },
   "outputs": [],
   "source": [
    "dados = [\n",
    "    {\"produto\": 100, \"data\": \"2024-04-05\"},\n",
    "    {\"produto\": 100, \"data\": \"2024-04-10\"},\n",
    "    {\"produto\": 100, \"data\": \"2024-05-01\"},\n",
    "    {\"produto\": 200, \"data\": \"2024-05-15\"},\n",
    "    {\"produto\": 200, \"data\": \"2024-05-20\"},\n",
    "    {\"produto\": 300, \"data\": \"2024-06-01\"},\n",
    "    {\"produto\": 300, \"data\": \"2024-06-02\"},\n",
    "    {\"produto\": 300, \"data\": \"2024-06-10\"},\n",
    "    {\"produto\": 400, \"data\": \"2024-06-15\"},\n",
    "]\n",
    "\n",
    "df = spark.createDataFrame(dados)\n",
    "df = df.withColumn(\"data\", F.to_date(\"data\"))\n",
    "df = df.withColumn(\"mes\", F.date_format(\"data\", \"yyyy-MM\"))\n",
    "\n",
    "window_spec = Window.partitionBy(\"produto\").orderBy(\"data\")\n",
    "df = df.withColumn(\"primeiro_mes\", F.first(\"mes\").over(window_spec))\n",
    "df_primeiro_mes = df.filter(F.col(\"mes\") == F.col(\"primeiro_mes\"))\n",
    "df_novos_produtos = (\n",
    "    df_primeiro_mes.groupBy(\"produto\", \"primeiro_mes\")\n",
    "    .count()\n",
    "    .withColumnRenamed(\"count\", \"qtd_carrinhos\")\n",
    ")\n",
    "\n",
    "display(df_novos_produtos.orderBy(\"produto\"))"
   ]
  },
  {
   "cell_type": "code",
   "execution_count": 0,
   "metadata": {
    "application/vnd.databricks.v1+cell": {
     "cellMetadata": {
      "byteLimit": 2048000,
      "rowLimit": 10000
     },
     "inputWidgets": {},
     "nuid": "cbab7b78-3c6d-4d08-90ad-d3e7e408385f",
     "showTitle": true,
     "tableResultSettingsMap": {},
     "title": "Produtos novos e quantidade de carrinhos"
    }
   },
   "outputs": [],
   "source": [
    "# Carregar dados da tabela tb_cartentries\n",
    "tb_cartentries = (\n",
    "    spark.table(\"tb_cartentries\")\n",
    "    .select(\n",
    "        F.col(\"p_product\").alias('produto'), \n",
    "        F.col(\"createdTS\").cast('date').alias('data')\n",
    "    )\n",
    "    .filter('p_product is not null')\n",
    ")\n",
    "\n",
    "# Adicionar coluna de mês\n",
    "df = tb_cartentries.withColumn(\"mes\", F.date_format(\"data\", \"yyyy-MM\"))\n",
    "\n",
    "# Encontrar o primeiro mês de cada produto\n",
    "window_spec = Window.partitionBy(\"produto\").orderBy(\"data\")\n",
    "df_primeiro_mes = df.withColumn(\"primeiro_mes\", F.first(\"mes\").over(window_spec))\n",
    "\n",
    "# Filtrar para manter apenas o primeiro mês de cada produto\n",
    "df_primeiro_mes = df_primeiro_mes.filter(F.col(\"mes\") == F.col(\"primeiro_mes\"))\n",
    "\n",
    "# Contar a quantidade de carrinhos no primeiro mês de cada produto\n",
    "df_novos_produtos = df_primeiro_mes.groupBy(\"produto\", \"primeiro_mes\").count().withColumnRenamed(\"count\", \"qtd_carrinhos\")\n",
    "\n",
    "# Exibir o resultado\n",
    "display(df_novos_produtos.orderBy(F.desc(\"qtd_carrinhos\")))"
   ]
  },
  {
   "cell_type": "markdown",
   "metadata": {
    "application/vnd.databricks.v1+cell": {
     "cellMetadata": {
      "byteLimit": 2048000,
      "rowLimit": 10000
     },
     "inputWidgets": {},
     "nuid": "b72fb5ca-dea5-4a13-98aa-9a40a91872d3",
     "showTitle": false,
     "tableResultSettingsMap": {},
     "title": ""
    }
   },
   "source": [
    "## ✅ 5. Quais estados tiveram mais abandonos? "
   ]
  },
  {
   "cell_type": "markdown",
   "metadata": {
    "application/vnd.databricks.v1+cell": {
     "cellMetadata": {
      "byteLimit": 2048000,
      "rowLimit": 10000
     },
     "inputWidgets": {},
     "nuid": "2f268d82-ad83-464f-8cb0-a12d2a10631d",
     "showTitle": false,
     "tableResultSettingsMap": {},
     "title": ""
    }
   },
   "source": [
    "- Não foi possível calcular a quantidade de abandonos por estado, pois apenas 6 registros estão preenchidos na coluna `p_paymentaddress` da tabela `tb_carts`. Essa coluna, que faz referência (FK) à tabela `tb_addresses`, limita a análise devido à baixa quantidade de dados disponíveis."
   ]
  },
  {
   "cell_type": "code",
   "execution_count": 0,
   "metadata": {
    "application/vnd.databricks.v1+cell": {
     "cellMetadata": {
      "byteLimit": 2048000,
      "rowLimit": 10000
     },
     "inputWidgets": {},
     "nuid": "f2e60835-53b9-4247-b145-efcb08b5aa8d",
     "showTitle": true,
     "tableResultSettingsMap": {},
     "title": "Abandonos por Estado"
    }
   },
   "outputs": [],
   "source": [
    "tb_carts = spark.table(\"tb_carts\")\n",
    "describe_tb_carts = tb_carts.select(\"p_paymentaddress\").summary()\n",
    "display(describe_tb_carts)"
   ]
  },
  {
   "cell_type": "markdown",
   "metadata": {
    "application/vnd.databricks.v1+cell": {
     "cellMetadata": {
      "byteLimit": 2048000,
      "rowLimit": 10000
     },
     "inputWidgets": {},
     "nuid": "d85286e0-0466-47c1-b242-ef9628a5a345",
     "showTitle": false,
     "tableResultSettingsMap": {},
     "title": ""
    }
   },
   "source": [
    "## ✅ 6. Gere um relatório dos produtos, mês a mês informando a quantidade de carrinhos abandonados, quantidade de itens abandonados e o valor não faturado? "
   ]
  },
  {
   "cell_type": "code",
   "execution_count": 0,
   "metadata": {
    "application/vnd.databricks.v1+cell": {
     "cellMetadata": {
      "byteLimit": 2048000,
      "rowLimit": 10000
     },
     "inputWidgets": {},
     "nuid": "272ff837-6aaa-4a40-8040-9beae3cc9328",
     "showTitle": true,
     "tableResultSettingsMap": {},
     "title": "Mês a Mês"
    }
   },
   "outputs": [],
   "source": [
    "df_carts = spark.table(\"tb_carts\")\n",
    "df_cartentries = spark.table(\"tb_cartentries\")\n",
    "\n",
    "df_join  = (\n",
    "df_carts.alias(\"c\")\n",
    ".join(df_cartentries.alias(\"ce\"), F.col(\"c.PK\") == F.col(\"ce.p_order\"), \"inner\")\n",
    ".select(\n",
    "    F.col(\"c.PK\"), \n",
    "    F.col(\"ce.p_product\"), \n",
    "    F.col(\"ce.p_quantity\"), \n",
    "    F.col(\"ce.p_totalprice\"), \n",
    "    F.col(\"c.createdTS\")\n",
    "    )\n",
    ")\n",
    "\n",
    "df_join  = df_join.withColumn(\"mes\", F.date_format(\"createdTS\", \"yyyy-MM\"))\n",
    "\n",
    "\n",
    "df_relatorio = (\n",
    "    df_join\n",
    "    .groupBy(\"p_product\", \"mes\")\n",
    "    .agg(\n",
    "        F.countDistinct(\"c.PK\").alias(\"qtd_carrinhos_abandonados\"),\n",
    "        F.sum(\"p_quantity\").alias(\"qtd_itens_abandonados\"),\n",
    "        F.sum(\"p_totalprice\").alias(\"valor_nao_faturado\")\n",
    "    )\n",
    "    .orderBy(\"mes\", \"p_product\")\n",
    ")\n",
    "\n",
    "df_relatorio.filter(\"p_product == 8797277388801\").orderBy(F.desc(\"mes\")).display() # Usando o produto 8797277388801 como exemplo"
   ]
  },
  {
   "cell_type": "code",
   "execution_count": 0,
   "metadata": {
    "application/vnd.databricks.v1+cell": {
     "cellMetadata": {
      "byteLimit": 2048000,
      "rowLimit": 10000
     },
     "inputWidgets": {},
     "nuid": "03e61111-5fd5-4c24-8d6b-5f78341d19f1",
     "showTitle": true,
     "tableResultSettingsMap": {},
     "title": "Por data"
    }
   },
   "outputs": [],
   "source": [
    "df_carts = spark.table(\"tb_carts\")\n",
    "df_cartentries = spark.table(\"tb_cartentries\")\n",
    "\n",
    "df_join  = (\n",
    "df_carts.alias(\"c\")\n",
    ".join(df_cartentries.alias(\"ce\"), F.col(\"c.PK\") == F.col(\"ce.p_order\"), \"inner\")\n",
    ".select(\n",
    "    F.col(\"c.PK\"), \n",
    "    F.col(\"ce.p_product\"), \n",
    "    F.col(\"ce.p_quantity\"), \n",
    "    F.col(\"ce.p_totalprice\"), \n",
    "    F.col(\"c.createdTS\")\n",
    "    )\n",
    ")\n",
    "\n",
    "df_join  = df_join.withColumn(\"data\", F.date_format(\"createdTS\", \"yyyy-MM-dd\"))\n",
    "\n",
    "\n",
    "df_relatorio = (\n",
    "    df_join\n",
    "    .groupBy(\"p_product\", \"data\")\n",
    "    .agg(\n",
    "        F.countDistinct(\"c.PK\").alias(\"qtd_carrinhos_abandonados\"),\n",
    "        F.sum(\"p_quantity\").alias(\"qtd_itens_abandonados\"),\n",
    "        F.sum(\"p_totalprice\").alias(\"valor_nao_faturado\")\n",
    "    )\n",
    "    .orderBy(\"data\", \"p_product\")\n",
    ")\n",
    "\n",
    "# Exibe o resultado\n",
    "df_relatorio.filter(\"p_product == 8797277388801\").orderBy(F.desc(\"data\")).display() # Usando o produto 8797277388801 como exemplo"
   ]
  },
  {
   "cell_type": "markdown",
   "metadata": {
    "application/vnd.databricks.v1+cell": {
     "cellMetadata": {},
     "inputWidgets": {},
     "nuid": "62983d61-beb7-4cea-9094-c0daa5370b73",
     "showTitle": false,
     "tableResultSettingsMap": {},
     "title": ""
    }
   },
   "source": [
    "## ✅ 7. Exporte um arquivo .txt com os 50 carrinhos com os maiores carts.p_totalprice"
   ]
  },
  {
   "cell_type": "markdown",
   "metadata": {
    "application/vnd.databricks.v1+cell": {
     "cellMetadata": {},
     "inputWidgets": {},
     "nuid": "aff6bfb5-6909-44f4-8bd1-361a0692b664",
     "showTitle": false,
     "tableResultSettingsMap": {},
     "title": ""
    }
   },
   "source": [
    "> **Observação:** O layout apresentado na prova estava confuso em relação à resposta da pergunta e foi considerado um layout que, na minha opinião, faz mais sentido."
   ]
  },
  {
   "cell_type": "code",
   "execution_count": 0,
   "metadata": {
    "application/vnd.databricks.v1+cell": {
     "cellMetadata": {
      "byteLimit": 2048000,
      "rowLimit": 10000
     },
     "inputWidgets": {},
     "nuid": "a43566ce-fd1f-4ba1-a1e7-9776add67e56",
     "showTitle": false,
     "tableResultSettingsMap": {},
     "title": ""
    }
   },
   "outputs": [],
   "source": [
    "df_carts = spark.table(\"tb_carts\")\n",
    "df_cartentries = spark.table(\"tb_cartentries\")\n",
    "df_users = spark.table(\"tb_users\")\n",
    "df_paymentmodes = spark.table(\"tb_paymentmodes\")\n",
    "df_paymentinfos = spark.table(\"tb_paymentinfos\")\n",
    "df_cmssitelp = spark.table(\"tb_cmssitelp\")\n",
    "df_addresses = spark.table(\"tb_addresses\")\n",
    "\n",
    "df_joined = (\n",
    "    df_carts.alias(\"carts\")\n",
    "    .join(df_cartentries.alias(\"cartentries\"), F.col(\"carts.PK\") == F.col(\"cartentries.p_order\"), \"left\")\n",
    "    .join(df_users.alias(\"users\"), F.col(\"carts.p_user\") == F.col(\"users.PK\"), \"left\")\n",
    "    .join(df_paymentmodes.alias(\"paymentmodes\"), F.col(\"carts.p_paymentmode\") == F.col(\"paymentmodes.PK\"), \"left\")\n",
    "    .join(df_paymentinfos.alias(\"paymentinfos\"), F.col(\"carts.p_paymentinfo\") == F.col(\"paymentinfos.PK\"), \"left\")\n",
    "    .join(df_cmssitelp.alias(\"cmssitelp\"), F.col(\"carts.p_site\") == F.col(\"cmssitelp.ITEMPK\"), \"left\")\n",
    "    .join(df_addresses.alias(\"addresses\"), F.col(\"carts.p_paymentaddress\") == F.col(\"addresses.PK\"), \"left\")\n",
    "    .groupBy(\n",
    "        F.col(\"carts.PK\"),\n",
    "        F.col(\"carts.createdTS\"),\n",
    "        F.col(\"carts.p_totalprice\"),\n",
    "        F.col(\"users.p_uid\"),\n",
    "        F.col(\"paymentmodes.p_code\"),\n",
    "        F.col(\"paymentinfos.p_installments\"),\n",
    "        F.col(\"cmssitelp.p_name\"),\n",
    "        F.col(\"addresses.p_postalcode\")\n",
    "    )\n",
    "    .agg(\n",
    "        F.sum(\"cartentries.p_quantity\").alias(\"p_quantity\"),\n",
    "        F.count(\"cartentries.PK\").alias(\"p_total_entries\")\n",
    "    )\n",
    ")\n",
    "\n",
    "df_result = df_joined.orderBy(F.desc(\"p_totalprice\")).limit(50)\n",
    "\n",
    "display(df_result)"
   ]
  }
 ],
 "metadata": {
  "application/vnd.databricks.v1+notebook": {
   "computePreferences": null,
   "dashboards": [],
   "environmentMetadata": {
    "base_environment": "",
    "environment_version": "2"
   },
   "inputWidgetPreferences": null,
   "language": "python",
   "notebookMetadata": {
    "mostRecentlyExecutedCommandWithImplicitDF": {
     "commandId": 6287708713386183,
     "dataframes": [
      "_sqldf"
     ]
    },
    "pythonIndentUnit": 4
   },
   "notebookName": "Parte 2 - Análise de Dados",
   "widgets": {}
  },
  "language_info": {
   "name": "python"
  }
 },
 "nbformat": 4,
 "nbformat_minor": 0
}
