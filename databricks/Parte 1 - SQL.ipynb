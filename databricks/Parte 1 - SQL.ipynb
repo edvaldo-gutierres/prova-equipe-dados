{
 "cells": [
  {
   "cell_type": "markdown",
   "metadata": {
    "application/vnd.databricks.v1+cell": {
     "cellMetadata": {},
     "inputWidgets": {},
     "nuid": "f06b826b-641f-4057-a7d9-1847ce915d0e",
     "showTitle": false,
     "tableResultSettingsMap": {},
     "title": ""
    }
   },
   "source": [
    "# Definição de bibliotecas e funções úteis"
   ]
  },
  {
   "cell_type": "code",
   "execution_count": 0,
   "metadata": {
    "application/vnd.databricks.v1+cell": {
     "cellMetadata": {
      "byteLimit": 2048000,
      "rowLimit": 10000
     },
     "inputWidgets": {},
     "nuid": "0339b721-7951-445e-b0cd-7261049d11e9",
     "showTitle": true,
     "tableResultSettingsMap": {},
     "title": "Importa Lib's"
    }
   },
   "outputs": [],
   "source": [
    "from pyspark.sql import functions as F\n",
    "from pyspark.sql.types import StructType, StructField, StringType, DateType, FloatType, IntegerType, DoubleType\n",
    "from datetime import datetime"
   ]
  },
  {
   "cell_type": "markdown",
   "metadata": {
    "application/vnd.databricks.v1+cell": {
     "cellMetadata": {},
     "inputWidgets": {},
     "nuid": "75f7c3bc-faeb-4711-9f51-d7f2886bde8b",
     "showTitle": false,
     "tableResultSettingsMap": {},
     "title": ""
    }
   },
   "source": [
    "# Prova Equipe de Dados\n",
    "\n",
    "Somos a CantuStore: Plataforma de tecnologia e logística que viabiliza soluções completas em pneus, \n",
    "guiando quem compra e apoiando quem vende. Se o assunto é pneu, você resolve aqui. Produtos e \n",
    "serviços em uma experiência 360° para abrir caminhos e ver pessoas e negócios evoluindo junto com \n",
    "a gente. Afinal, ficar parado não é opção, pelos menos pra nós. "
   ]
  },
  {
   "cell_type": "markdown",
   "metadata": {
    "application/vnd.databricks.v1+cell": {
     "cellMetadata": {},
     "inputWidgets": {},
     "nuid": "4ddb801c-636e-4db7-bc1c-269c3ce48c6a",
     "showTitle": false,
     "tableResultSettingsMap": {},
     "title": ""
    }
   },
   "source": [
    "## Parte 1 - SQL"
   ]
  },
  {
   "cell_type": "markdown",
   "metadata": {
    "application/vnd.databricks.v1+cell": {
     "cellMetadata": {},
     "inputWidgets": {},
     "nuid": "b71c9c9f-ecb4-4d05-853f-0d78db5211ab",
     "showTitle": false,
     "tableResultSettingsMap": {},
     "title": ""
    }
   },
   "source": [
    "---\n",
    "# 🏆 Estrutura do Campeonato\n",
    "\n",
    "A seguir, temos a modelagem e os dados de um campeonato entre equipes:\n",
    "\n",
    "---\n",
    "\n",
    "## 📄 Tabela `times`\n",
    "\n",
    "```sql\n",
    "CREATE TABLE times (\n",
    "    time_id INTEGER NOT NULL,\n",
    "    time_nome VARCHAR NOT NULL,\n",
    "    UNIQUE(time_id)\n",
    ");\n",
    "````\n",
    "\n",
    "### 📌 Dados da Tabela `times`\n",
    "\n",
    "| Time\\_id | Time\\_nome |\n",
    "| -------- | ---------- |\n",
    "| 10       | Financeiro |\n",
    "| 20       | Marketing  |\n",
    "| 30       | Logística  |\n",
    "| 40       | TI         |\n",
    "| 50       | Dados      |\n",
    "\n",
    "---\n",
    "\n",
    "## 📄 Tabela `jogos`\n",
    "\n",
    "```sql\n",
    "CREATE TABLE jogos (\n",
    "    jogo_id INTEGER NOT NULL,\n",
    "    mandante_time INTEGER NOT NULL,\n",
    "    visitante_time INTEGER NOT NULL,\n",
    "    mandante_gols INTEGER NOT NULL,\n",
    "    visitante_gols INTEGER NOT NULL,\n",
    "    UNIQUE(jogo_id)\n",
    ");\n",
    "```\n",
    "\n",
    "### 📌 Dados da Tabela `jogos`\n",
    "\n",
    "| Jogo\\_id | Time\\_mandante | Time\\_visitante | Gols\\_mandante | Gols\\_visitante |\n",
    "| -------- | -------------- | --------------- | -------------- | --------------- |\n",
    "| 1        | 30             | 20              | 1              | 0               |\n",
    "| 2        | 10             | 20              | 1              | 2               |\n",
    "| 3        | 20             | 50              | 2              | 2               |\n",
    "| 4        | 10             | 30              | 1              | 1               |\n",
    "| 5        | 30             | 50              | 0              | 1               |\n",
    "\n",
    "---\n",
    "\n",
    "## ⚙️ Regras para Pontuação\n",
    "\n",
    "* ✅ Vitória: 3 pontos (mais gols que o adversário)\n",
    "* ⚖️ Empate: 1 ponto (mesmo número de gols)\n",
    "* ❌ Derrota: 0 pontos (menos gols que o adversário)\n",
    "\n",
    "---\n",
    "\n",
    "## 🎯 Objetivo\n",
    "\n",
    "Escrever uma consulta que calcule o total de pontos de cada equipe (`time_id`) com base nas regras acima.\n",
    "\n",
    "### Requisitos da consulta:\n",
    "\n",
    "* Retornar o nome do time e o total de pontos (`num_pontos`);\n",
    "* Agrupar por time;\n",
    "* Ordenar por `num_pontos` em ordem decrescente;\n",
    "* Em caso de empate, ordenar por `time_id` em ordem crescente.\n",
    "\n",
    "---\n",
    "\n",
    "\n",
    "\n"
   ]
  },
  {
   "cell_type": "markdown",
   "metadata": {
    "application/vnd.databricks.v1+cell": {
     "cellMetadata": {},
     "inputWidgets": {},
     "nuid": "16822cd8-943d-4638-8194-83f0f95fc627",
     "showTitle": false,
     "tableResultSettingsMap": {},
     "title": ""
    }
   },
   "source": [
    "#### 1.1.1 Cria tabelas no Databricks - com Unity Catalog"
   ]
  },
  {
   "cell_type": "code",
   "execution_count": 0,
   "metadata": {
    "application/vnd.databricks.v1+cell": {
     "cellMetadata": {
      "byteLimit": 2048000,
      "implicitDf": true,
      "rowLimit": 10000
     },
     "inputWidgets": {},
     "nuid": "89787e2f-1332-4272-bd20-901b77938bb9",
     "showTitle": true,
     "tableResultSettingsMap": {},
     "title": "Create Table - Times"
    }
   },
   "outputs": [],
   "source": [
    "%sql\n",
    "USE datacraft_catalog.cantu;\n",
    "CREATE TABLE IF NOT EXISTS cantu.times (\n",
    "  time_id LONG NOT NULL, \n",
    "  time_nome STRING NOT NULL,\n",
    "  PRIMARY KEY(time_id)\n",
    ");"
   ]
  },
  {
   "cell_type": "code",
   "execution_count": 0,
   "metadata": {
    "application/vnd.databricks.v1+cell": {
     "cellMetadata": {
      "byteLimit": 2048000,
      "implicitDf": true,
      "rowLimit": 10000
     },
     "inputWidgets": {},
     "nuid": "fb75dcdf-1db8-472f-9711-e30a8e6fa0f2",
     "showTitle": true,
     "tableResultSettingsMap": {},
     "title": "Create Table - Jogos"
    }
   },
   "outputs": [],
   "source": [
    "%sql\n",
    "USE datacraft_catalog.cantu;\n",
    "CREATE TABLE IF NOT EXISTS cantu.jogos (\n",
    "  jogo_id LONG NOT NULL, \n",
    "  mandante_time LONG NOT NULL,\n",
    "  visitante_time LONG NOT NULL,\n",
    "  mandante_gols LONG NOT NULL,\n",
    "  visitante_gols LONG NOT NULL,\n",
    "  PRIMARY KEY(jogo_id),\n",
    "  CONSTRAINT fk_mandante_time FOREIGN KEY (mandante_time) REFERENCES times(time_id),\n",
    "  CONSTRAINT fk_visitante_time FOREIGN KEY (visitante_time) REFERENCES times(time_id)\n",
    ");"
   ]
  },
  {
   "cell_type": "markdown",
   "metadata": {
    "application/vnd.databricks.v1+cell": {
     "cellMetadata": {},
     "inputWidgets": {},
     "nuid": "00883546-9639-4119-8f8f-a92ed4d1edcd",
     "showTitle": false,
     "tableResultSettingsMap": {},
     "title": ""
    }
   },
   "source": [
    "#### 1.1.2 Insere os dados nas tabelas no Databricks - com Unity Catalog"
   ]
  },
  {
   "cell_type": "code",
   "execution_count": 0,
   "metadata": {
    "application/vnd.databricks.v1+cell": {
     "cellMetadata": {
      "byteLimit": 2048000,
      "rowLimit": 10000
     },
     "inputWidgets": {},
     "nuid": "b1826420-c6a9-4207-ac74-037d5acfe4f8",
     "showTitle": true,
     "tableResultSettingsMap": {},
     "title": "Gerar dados"
    }
   },
   "outputs": [],
   "source": [
    "# 📄 DataFrame de times\n",
    "df_times = spark.createDataFrame([\n",
    "    (10, \"Financeiro\"),\n",
    "    (20, \"Marketing\"),\n",
    "    (30, \"Logística\"),\n",
    "    (40, \"TI\"),\n",
    "    (50, \"Dados\"),\n",
    "], [\"time_id\", \"time_nome\"])\n",
    "\n",
    "# 📄 DataFrame de jogos\n",
    "df_jogos = spark.createDataFrame([\n",
    "    (1, 30, 20, 1, 0),\n",
    "    (2, 10, 20, 1, 2),\n",
    "    (3, 20, 50, 2, 2),\n",
    "    (4, 10, 30, 1, 0),\n",
    "    (5, 30, 50, 0, 1),\n",
    "], [\"jogo_id\", \"mandante_time\", \"visitante_time\", \"mandante_gols\", \"visitante_gols\"])\n",
    "\n",
    "# Cria view temporária\n",
    "df_times.createOrReplaceTempView('temp_times')\n",
    "df_jogos.createOrReplaceTempView('temp_jogos')\n"
   ]
  },
  {
   "cell_type": "code",
   "execution_count": 0,
   "metadata": {
    "application/vnd.databricks.v1+cell": {
     "cellMetadata": {
      "byteLimit": 2048000,
      "implicitDf": true,
      "rowLimit": 10000
     },
     "inputWidgets": {},
     "nuid": "f44706dc-dd8b-4cde-ad55-909d794b62cf",
     "showTitle": true,
     "tableResultSettingsMap": {},
     "title": "Inserir dados - Times"
    }
   },
   "outputs": [
    {
     "data": {
      "text/html": [
       "<style scoped>\n",
       "  .table-result-container {\n",
       "    max-height: 300px;\n",
       "    overflow: auto;\n",
       "  }\n",
       "  table, th, td {\n",
       "    border: 1px solid black;\n",
       "    border-collapse: collapse;\n",
       "  }\n",
       "  th, td {\n",
       "    padding: 5px;\n",
       "  }\n",
       "  th {\n",
       "    text-align: left;\n",
       "  }\n",
       "</style><div class='table-result-container'><table class='table-result'><thead style='background-color: white'><tr><th>num_affected_rows</th><th>num_inserted_rows</th></tr></thead><tbody><tr><td>5</td><td>5</td></tr></tbody></table></div>"
      ]
     },
     "metadata": {
      "application/vnd.databricks.v1+output": {
       "addedWidgets": {},
       "aggData": [],
       "aggError": "",
       "aggOverflow": false,
       "aggSchema": [],
       "aggSeriesLimitReached": false,
       "aggType": "",
       "arguments": {},
       "columnCustomDisplayInfos": {},
       "data": [
        [
         5,
         5
        ]
       ],
       "datasetInfos": [
        {
         "name": "_sqldf",
         "schema": {
          "fields": [
           {
            "metadata": {},
            "name": "num_affected_rows",
            "nullable": true,
            "type": "long"
           },
           {
            "metadata": {},
            "name": "num_inserted_rows",
            "nullable": true,
            "type": "long"
           }
          ],
          "type": "struct"
         },
         "tableIdentifier": null,
         "typeStr": "pyspark.sql.connect.dataframe.DataFrame"
        }
       ],
       "dbfsResultPath": null,
       "isJsonSchema": true,
       "metadata": {
        "createTempViewForImplicitDf": true,
        "dataframeName": "_sqldf",
        "executionCount": 83
       },
       "overflow": false,
       "plotOptions": {
        "customPlotOptions": {},
        "displayType": "table",
        "pivotAggregation": null,
        "pivotColumns": null,
        "xColumns": null,
        "yColumns": null
       },
       "removedWidgets": [],
       "schema": [
        {
         "metadata": "{}",
         "name": "num_affected_rows",
         "type": "\"long\""
        },
        {
         "metadata": "{}",
         "name": "num_inserted_rows",
         "type": "\"long\""
        }
       ],
       "type": "table"
      }
     },
     "output_type": "display_data"
    }
   ],
   "source": [
    "%sql\n",
    "INSERT INTO datacraft_catalog.cantu.times (\n",
    "    time_id, time_nome\n",
    "  )\n",
    "SELECT\n",
    "  time_id,\n",
    "  time_nome\n",
    "FROM temp_times"
   ]
  },
  {
   "cell_type": "code",
   "execution_count": 0,
   "metadata": {
    "application/vnd.databricks.v1+cell": {
     "cellMetadata": {
      "byteLimit": 2048000,
      "implicitDf": true,
      "rowLimit": 10000
     },
     "inputWidgets": {},
     "nuid": "46ffd277-f08f-48d8-b4ad-6f4a2eb15fef",
     "showTitle": false,
     "tableResultSettingsMap": {},
     "title": ""
    }
   },
   "outputs": [],
   "source": [
    "# %sql\n",
    "# TRUNCATE TABLE datacraft_catalog.cantu.times"
   ]
  },
  {
   "cell_type": "code",
   "execution_count": 0,
   "metadata": {
    "application/vnd.databricks.v1+cell": {
     "cellMetadata": {
      "byteLimit": 2048000,
      "implicitDf": true,
      "rowLimit": 10000
     },
     "inputWidgets": {},
     "nuid": "3eebe48c-56fd-4663-a12b-fdfa3b7972ef",
     "showTitle": true,
     "tableResultSettingsMap": {},
     "title": "Inserir dados - Jogos"
    }
   },
   "outputs": [
    {
     "data": {
      "text/html": [
       "<style scoped>\n",
       "  .table-result-container {\n",
       "    max-height: 300px;\n",
       "    overflow: auto;\n",
       "  }\n",
       "  table, th, td {\n",
       "    border: 1px solid black;\n",
       "    border-collapse: collapse;\n",
       "  }\n",
       "  th, td {\n",
       "    padding: 5px;\n",
       "  }\n",
       "  th {\n",
       "    text-align: left;\n",
       "  }\n",
       "</style><div class='table-result-container'><table class='table-result'><thead style='background-color: white'><tr><th>num_affected_rows</th><th>num_inserted_rows</th></tr></thead><tbody><tr><td>5</td><td>5</td></tr></tbody></table></div>"
      ]
     },
     "metadata": {
      "application/vnd.databricks.v1+output": {
       "addedWidgets": {},
       "aggData": [],
       "aggError": "",
       "aggOverflow": false,
       "aggSchema": [],
       "aggSeriesLimitReached": false,
       "aggType": "",
       "arguments": {},
       "columnCustomDisplayInfos": {},
       "data": [
        [
         5,
         5
        ]
       ],
       "datasetInfos": [
        {
         "name": "_sqldf",
         "schema": {
          "fields": [
           {
            "metadata": {},
            "name": "num_affected_rows",
            "nullable": true,
            "type": "long"
           },
           {
            "metadata": {},
            "name": "num_inserted_rows",
            "nullable": true,
            "type": "long"
           }
          ],
          "type": "struct"
         },
         "tableIdentifier": null,
         "typeStr": "pyspark.sql.connect.dataframe.DataFrame"
        }
       ],
       "dbfsResultPath": null,
       "isJsonSchema": true,
       "metadata": {
        "createTempViewForImplicitDf": true,
        "dataframeName": "_sqldf",
        "executionCount": 72
       },
       "overflow": false,
       "plotOptions": {
        "customPlotOptions": {},
        "displayType": "table",
        "pivotAggregation": null,
        "pivotColumns": null,
        "xColumns": null,
        "yColumns": null
       },
       "removedWidgets": [],
       "schema": [
        {
         "metadata": "{}",
         "name": "num_affected_rows",
         "type": "\"long\""
        },
        {
         "metadata": "{}",
         "name": "num_inserted_rows",
         "type": "\"long\""
        }
       ],
       "type": "table"
      }
     },
     "output_type": "display_data"
    }
   ],
   "source": [
    "%sql\n",
    "INSERT INTO datacraft_catalog.cantu.jogos (\n",
    "    jogo_id, mandante_time, visitante_time, mandante_gols, visitante_gols\n",
    "  )\n",
    "  SELECT\n",
    "    jogo_id,\n",
    "    mandante_time,\n",
    "    visitante_time,\n",
    "    mandante_gols,\n",
    "    visitante_gols\n",
    "  FROM\n",
    "    temp_jogos"
   ]
  },
  {
   "cell_type": "code",
   "execution_count": 0,
   "metadata": {
    "application/vnd.databricks.v1+cell": {
     "cellMetadata": {
      "byteLimit": 2048000,
      "implicitDf": true,
      "rowLimit": 10000
     },
     "inputWidgets": {},
     "nuid": "73118b7f-09b6-427c-b26d-b028efedb33e",
     "showTitle": false,
     "tableResultSettingsMap": {},
     "title": ""
    }
   },
   "outputs": [],
   "source": [
    "# %sql\n",
    "# TRUNCATE TABLE datacraft_catalog.cantu.jogos"
   ]
  },
  {
   "cell_type": "code",
   "execution_count": 0,
   "metadata": {
    "application/vnd.databricks.v1+cell": {
     "cellMetadata": {
      "byteLimit": 2048000,
      "implicitDf": true,
      "rowLimit": 10000
     },
     "inputWidgets": {},
     "nuid": "eaea2908-d764-4713-8946-1565f2e94e22",
     "showTitle": true,
     "tableResultSettingsMap": {},
     "title": "Query - Classificação Times"
    }
   },
   "outputs": [
    {
     "data": {
      "text/html": [
       "<style scoped>\n",
       "  .table-result-container {\n",
       "    max-height: 300px;\n",
       "    overflow: auto;\n",
       "  }\n",
       "  table, th, td {\n",
       "    border: 1px solid black;\n",
       "    border-collapse: collapse;\n",
       "  }\n",
       "  th, td {\n",
       "    padding: 5px;\n",
       "  }\n",
       "  th {\n",
       "    text-align: left;\n",
       "  }\n",
       "</style><div class='table-result-container'><table class='table-result'><thead style='background-color: white'><tr><th>time_nome</th><th>num_pontos</th></tr></thead><tbody><tr><td>Marketing</td><td>4</td></tr><tr><td>Dados</td><td>4</td></tr><tr><td>Financeiro</td><td>3</td></tr><tr><td>Logística</td><td>3</td></tr><tr><td>TI</td><td>0</td></tr></tbody></table></div>"
      ]
     },
     "metadata": {
      "application/vnd.databricks.v1+output": {
       "addedWidgets": {},
       "aggData": [],
       "aggError": "",
       "aggOverflow": false,
       "aggSchema": [],
       "aggSeriesLimitReached": false,
       "aggType": "",
       "arguments": {},
       "columnCustomDisplayInfos": {},
       "data": [
        [
         "Marketing",
         4
        ],
        [
         "Dados",
         4
        ],
        [
         "Financeiro",
         3
        ],
        [
         "Logística",
         3
        ],
        [
         "TI",
         0
        ]
       ],
       "datasetInfos": [
        {
         "name": "_sqldf",
         "schema": {
          "fields": [
           {
            "metadata": {
             "comment": "O nome do time, que fornece um rótulo claro e reconhecível para fins de identificação e relatórios."
            },
            "name": "time_nome",
            "nullable": false,
            "type": "string"
           },
           {
            "metadata": {},
            "name": "num_pontos",
            "nullable": false,
            "type": "long"
           }
          ],
          "type": "struct"
         },
         "tableIdentifier": null,
         "typeStr": "pyspark.sql.connect.dataframe.DataFrame"
        }
       ],
       "dbfsResultPath": null,
       "isJsonSchema": true,
       "metadata": {
        "createTempViewForImplicitDf": true,
        "dataframeName": "_sqldf",
        "executionCount": 84
       },
       "overflow": false,
       "plotOptions": {
        "customPlotOptions": {},
        "displayType": "table",
        "pivotAggregation": null,
        "pivotColumns": null,
        "xColumns": null,
        "yColumns": null
       },
       "removedWidgets": [],
       "schema": [
        {
         "metadata": "{\"comment\": \"O nome do time, que fornece um r\\u00f3tulo claro e reconhec\\u00edvel para fins de identifica\\u00e7\\u00e3o e relat\\u00f3rios.\"}",
         "name": "time_nome",
         "type": "\"string\""
        },
        {
         "metadata": "{}",
         "name": "num_pontos",
         "type": "\"long\""
        }
       ],
       "type": "table"
      }
     },
     "output_type": "display_data"
    }
   ],
   "source": [
    "%sql\n",
    "WITH resultados_mandante AS (\n",
    "    SELECT \n",
    "        mandante_time AS time_id,\n",
    "        CASE \n",
    "            WHEN mandante_gols > visitante_gols THEN 3\n",
    "            WHEN mandante_gols = visitante_gols THEN 1\n",
    "            ELSE 0\n",
    "        END AS pontos\n",
    "    FROM datacraft_catalog.cantu.jogos\n",
    "),\n",
    "resultados_visitante AS (\n",
    "    SELECT \n",
    "        visitante_time AS time_id,\n",
    "        CASE \n",
    "            WHEN visitante_gols > mandante_gols THEN 3\n",
    "            WHEN visitante_gols = mandante_gols THEN 1\n",
    "            ELSE 0\n",
    "        END AS pontos\n",
    "    FROM datacraft_catalog.cantu.jogos\n",
    "),\n",
    "todos_resultados AS (\n",
    "    SELECT * FROM resultados_mandante\n",
    "    UNION ALL\n",
    "    SELECT * FROM resultados_visitante\n",
    "),\n",
    "pontuacao_por_time AS (\n",
    "    SELECT \n",
    "        time_id,\n",
    "        SUM(pontos) AS num_pontos\n",
    "    FROM todos_resultados\n",
    "    GROUP BY time_id\n",
    ")\n",
    "\n",
    "SELECT \n",
    "    t.time_nome,\n",
    "    COALESCE(p.num_pontos, 0) AS num_pontos\n",
    "FROM datacraft_catalog.cantu.times t\n",
    "LEFT JOIN pontuacao_por_time p ON t.time_id = p.time_id\n",
    "ORDER BY num_pontos DESC, t.time_id ASC;"
   ]
  },
  {
   "cell_type": "markdown",
   "metadata": {
    "application/vnd.databricks.v1+cell": {
     "cellMetadata": {},
     "inputWidgets": {},
     "nuid": "0be6c806-9330-4947-ba31-31eef4c407ca",
     "showTitle": false,
     "tableResultSettingsMap": {},
     "title": ""
    }
   },
   "source": [
    "### 1.2 Comissões\n",
    "\n",
    "A tabela `comissoes` tem a seguinte estrutura:\n",
    "\n",
    "```sql\n",
    "CREATE TABLE comissoes (\n",
    "    comprador VARCHAR NOT NULL,\n",
    "    vendedor VARCHAR NOT NULL,\n",
    "    dataPgto DATE NOT NULL,\n",
    "    valor FLOAT NOT NULL\n",
    ");\n",
    "````\n",
    "\n",
    "---\n",
    "\n",
    "## 📌 Regras da Consulta\n",
    "\n",
    "Escreva uma query SQL que retorne a **lista de vendedores** que:\n",
    "\n",
    "* Receberam **pelo menos R\\$ 1.024,00** em comissões;\n",
    "* Considerando **no máximo 3 transferências** por vendedor;\n",
    "* Ou seja, só deve aparecer na lista quem tiver até 3 registros e a soma total dos valores seja maior ou igual a R\\$ 1.024,00;\n",
    "* Vendedores com mais de 3 comissões **não devem aparecer**, mesmo que tenham recebido mais de R\\$ 1.024,00;\n",
    "* O resultado deve ser ordenado **em ordem alfabética** pelo nome do vendedor.\n",
    "\n",
    "---\n",
    "\n",
    "## 🧪 Exemplo de Dados\n",
    "\n",
    "| Comprador | Vendedor | Data       | Valor    |\n",
    "| --------- | -------- | ---------- | -------- |\n",
    "| Leonardo  | Bruno    | 01/01/2000 | 200,00   |\n",
    "| Leonardo  | Matheus  | 27/09/2003 | 1.024,00 |\n",
    "| Leonardo  | Lucas    | 26/06/2006 | 512,00   |\n",
    "| Marcos    | Lucas    | 17/12/2020 | 100,00   |\n",
    "| Marcos    | Lucas    | 22/03/2002 | 10,00    |\n",
    "| Cinthia   | Lucas    | 20/03/2021 | 500,00   |\n",
    "| Mateus    | Bruno    | 02/06/2007 | 400,00   |\n",
    "| Mateus    | Bruno    | 26/06/2006 | 400,00   |\n",
    "| Mateus    | Bruno    | 26/06/2015 | 200,00   |\n",
    "\n",
    "---\n",
    "\n",
    "## ✅ Resultado Esperado\n",
    "\n",
    "| Vendedor |\n",
    "| -------- |\n",
    "| Lucas    |\n",
    "| Matheus  |\n",
    "\n",
    "---\n",
    "\n",
    "### ℹ️ Explicação\n",
    "\n",
    "* **Lucas** tem 3 comissões: 512 + 100 + 500 = 1.112 ≥ 1.024 → OK ✅\n",
    "* **Matheus** tem 1 comissão de 1.024 → OK ✅\n",
    "* **Bruno** tem 4 comissões (mesmo somando 1.200, excede 3 transferências) → ❌\n",
    "\n",
    "---\n"
   ]
  },
  {
   "cell_type": "markdown",
   "metadata": {
    "application/vnd.databricks.v1+cell": {
     "cellMetadata": {},
     "inputWidgets": {},
     "nuid": "0d03bd85-6e24-460e-a4ae-368eb904cf1a",
     "showTitle": false,
     "tableResultSettingsMap": {},
     "title": ""
    }
   },
   "source": [
    "#### 1.2.1 Cria tabelas no Databricks - com Unity Catalog"
   ]
  },
  {
   "cell_type": "code",
   "execution_count": 0,
   "metadata": {
    "application/vnd.databricks.v1+cell": {
     "cellMetadata": {
      "byteLimit": 2048000,
      "implicitDf": true,
      "rowLimit": 10000
     },
     "inputWidgets": {},
     "nuid": "618e68fe-db1d-4542-972f-214da7575ba0",
     "showTitle": true,
     "tableResultSettingsMap": {},
     "title": "Create Table - Comissões"
    }
   },
   "outputs": [],
   "source": [
    "%sql\n",
    "USE datacraft_catalog.cantu;\n",
    "CREATE TABLE IF NOT EXISTS cantu.comissoes (\n",
    "  comissao_id LONG NOT NULL GENERATED ALWAYS AS IDENTITY(START WITH 1 INCREMENT BY 1),\n",
    "  comprador STRING NOT NULL,\n",
    "  vendedor STRING NOT NULL,\n",
    "  dataPgto DATE NOT NULL,\n",
    "  valor DOUBLE NOT NULL,\n",
    "  PRIMARY KEY(comissao_id)\n",
    ");"
   ]
  },
  {
   "cell_type": "markdown",
   "metadata": {
    "application/vnd.databricks.v1+cell": {
     "cellMetadata": {},
     "inputWidgets": {},
     "nuid": "acbc638a-5172-442a-8302-83fdb2f1290d",
     "showTitle": false,
     "tableResultSettingsMap": {},
     "title": ""
    }
   },
   "source": [
    "#### 1.2.2 Insere os dados na tabela no Databricks - com Unity Catalog"
   ]
  },
  {
   "cell_type": "code",
   "execution_count": 0,
   "metadata": {
    "application/vnd.databricks.v1+cell": {
     "cellMetadata": {
      "byteLimit": 2048000,
      "rowLimit": 10000
     },
     "inputWidgets": {},
     "nuid": "d800e5a7-2765-4d0b-b32b-64675d3913f8",
     "showTitle": true,
     "tableResultSettingsMap": {},
     "title": "Gerar dados"
    }
   },
   "outputs": [],
   "source": [
    "# Define o schema\n",
    "schema = StructType([\n",
    "    StructField(\"comprador\", StringType(), False),\n",
    "    StructField(\"vendedor\", StringType(), False),\n",
    "    StructField(\"dataPgto\", DateType(), False),\n",
    "    StructField(\"valor\", FloatType(), False)\n",
    "])\n",
    "\n",
    "# Dados da tabela comissoes\n",
    "dados_comissoes = [\n",
    "    (\"Leonardo\", \"Bruno\",   datetime(2000, 1, 1),   200.00),\n",
    "    (\"Leonardo\", \"Matheus\",datetime(2003, 9, 27), 1024.00),\n",
    "    (\"Leonardo\", \"Lucas\",  datetime(2006, 6, 26),  512.00),\n",
    "    (\"Marcos\",   \"Lucas\",  datetime(2020, 12, 17), 100.00),\n",
    "    (\"Marcos\",   \"Lucas\",  datetime(2002, 3, 22),   10.00),\n",
    "    (\"Cinthia\",  \"Lucas\",  datetime(2021, 3, 20),  500.00),\n",
    "    (\"Mateus\",   \"Bruno\",  datetime(2007, 6, 2),   400.00),\n",
    "    (\"Mateus\",   \"Bruno\",  datetime(2006, 6, 26),  400.00),\n",
    "    (\"Mateus\",   \"Bruno\",  datetime(2015, 6, 26),  200.00),\n",
    "]\n",
    "\n",
    "# Cria o DataFrame\n",
    "df_comissoes = spark.createDataFrame(dados_comissoes, schema)\n",
    "\n",
    "# Cria view temporária\n",
    "df_comissoes.createOrReplaceTempView('temp_comissoes')\n"
   ]
  },
  {
   "cell_type": "code",
   "execution_count": 0,
   "metadata": {
    "application/vnd.databricks.v1+cell": {
     "cellMetadata": {
      "byteLimit": 2048000,
      "implicitDf": true,
      "rowLimit": 10000
     },
     "inputWidgets": {},
     "nuid": "987c46a6-2f22-4aa0-ba7e-89beda273904",
     "showTitle": true,
     "tableResultSettingsMap": {},
     "title": "Inserir dados - Comissões"
    }
   },
   "outputs": [
    {
     "data": {
      "text/html": [
       "<style scoped>\n",
       "  .table-result-container {\n",
       "    max-height: 300px;\n",
       "    overflow: auto;\n",
       "  }\n",
       "  table, th, td {\n",
       "    border: 1px solid black;\n",
       "    border-collapse: collapse;\n",
       "  }\n",
       "  th, td {\n",
       "    padding: 5px;\n",
       "  }\n",
       "  th {\n",
       "    text-align: left;\n",
       "  }\n",
       "</style><div class='table-result-container'><table class='table-result'><thead style='background-color: white'><tr><th>num_affected_rows</th><th>num_inserted_rows</th></tr></thead><tbody><tr><td>9</td><td>9</td></tr></tbody></table></div>"
      ]
     },
     "metadata": {
      "application/vnd.databricks.v1+output": {
       "addedWidgets": {},
       "aggData": [],
       "aggError": "",
       "aggOverflow": false,
       "aggSchema": [],
       "aggSeriesLimitReached": false,
       "aggType": "",
       "arguments": {},
       "columnCustomDisplayInfos": {},
       "data": [
        [
         9,
         9
        ]
       ],
       "datasetInfos": [
        {
         "name": "_sqldf",
         "schema": {
          "fields": [
           {
            "metadata": {},
            "name": "num_affected_rows",
            "nullable": true,
            "type": "long"
           },
           {
            "metadata": {},
            "name": "num_inserted_rows",
            "nullable": true,
            "type": "long"
           }
          ],
          "type": "struct"
         },
         "tableIdentifier": null,
         "typeStr": "pyspark.sql.connect.dataframe.DataFrame"
        }
       ],
       "dbfsResultPath": null,
       "isJsonSchema": true,
       "metadata": {
        "createTempViewForImplicitDf": true,
        "dataframeName": "_sqldf",
        "executionCount": 106
       },
       "overflow": false,
       "plotOptions": {
        "customPlotOptions": {},
        "displayType": "table",
        "pivotAggregation": null,
        "pivotColumns": null,
        "xColumns": null,
        "yColumns": null
       },
       "removedWidgets": [],
       "schema": [
        {
         "metadata": "{}",
         "name": "num_affected_rows",
         "type": "\"long\""
        },
        {
         "metadata": "{}",
         "name": "num_inserted_rows",
         "type": "\"long\""
        }
       ],
       "type": "table"
      }
     },
     "output_type": "display_data"
    }
   ],
   "source": [
    "%sql\n",
    "INSERT INTO datacraft_catalog.cantu.comissoes (\n",
    "    comprador, vendedor, dataPgto, valor\n",
    "  )\n",
    "SELECT\n",
    "  comprador,\n",
    "  vendedor,\n",
    "  dataPgto,\n",
    "  valor\n",
    "FROM temp_comissoes"
   ]
  },
  {
   "cell_type": "code",
   "execution_count": 0,
   "metadata": {
    "application/vnd.databricks.v1+cell": {
     "cellMetadata": {
      "byteLimit": 2048000,
      "implicitDf": true,
      "rowLimit": 10000
     },
     "inputWidgets": {},
     "nuid": "39978dc8-6ba3-4e56-8dac-fd250404dadf",
     "showTitle": true,
     "tableResultSettingsMap": {},
     "title": "Query - Lista de Vendedores"
    }
   },
   "outputs": [
    {
     "data": {
      "text/html": [
       "<style scoped>\n",
       "  .table-result-container {\n",
       "    max-height: 300px;\n",
       "    overflow: auto;\n",
       "  }\n",
       "  table, th, td {\n",
       "    border: 1px solid black;\n",
       "    border-collapse: collapse;\n",
       "  }\n",
       "  th, td {\n",
       "    padding: 5px;\n",
       "  }\n",
       "  th {\n",
       "    text-align: left;\n",
       "  }\n",
       "</style><div class='table-result-container'><table class='table-result'><thead style='background-color: white'><tr><th>vendedor</th></tr></thead><tbody><tr><td>Lucas</td></tr><tr><td>Matheus</td></tr></tbody></table></div>"
      ]
     },
     "metadata": {
      "application/vnd.databricks.v1+output": {
       "addedWidgets": {},
       "aggData": [],
       "aggError": "",
       "aggOverflow": false,
       "aggSchema": [],
       "aggSeriesLimitReached": false,
       "aggType": "",
       "arguments": {},
       "columnCustomDisplayInfos": {},
       "data": [
        [
         "Lucas"
        ],
        [
         "Matheus"
        ]
       ],
       "datasetInfos": [
        {
         "name": "_sqldf",
         "schema": {
          "fields": [
           {
            "metadata": {
             "comment": "Indica o vendedor associado à transação, fornecendo insights sobre o desempenho de vendas e relacionamentos."
            },
            "name": "vendedor",
            "nullable": false,
            "type": "string"
           }
          ],
          "type": "struct"
         },
         "tableIdentifier": null,
         "typeStr": "pyspark.sql.connect.dataframe.DataFrame"
        }
       ],
       "dbfsResultPath": null,
       "isJsonSchema": true,
       "metadata": {
        "createTempViewForImplicitDf": true,
        "dataframeName": "_sqldf",
        "executionCount": 119
       },
       "overflow": false,
       "plotOptions": {
        "customPlotOptions": {},
        "displayType": "table",
        "pivotAggregation": null,
        "pivotColumns": null,
        "xColumns": null,
        "yColumns": null
       },
       "removedWidgets": [],
       "schema": [
        {
         "metadata": "{\"comment\": \"Indica o vendedor associado \\u00e0 transa\\u00e7\\u00e3o, fornecendo insights sobre o desempenho de vendas e relacionamentos.\"}",
         "name": "vendedor",
         "type": "\"string\""
        }
       ],
       "type": "table"
      }
     },
     "output_type": "display_data"
    }
   ],
   "source": [
    "%sql\n",
    "WITH ranked_comissoes AS (\n",
    "    SELECT\n",
    "        vendedor,\n",
    "        valor,\n",
    "        ROW_NUMBER() OVER (PARTITION BY vendedor ORDER BY valor DESC) AS rn\n",
    "    FROM datacraft_catalog.cantu.comissoes\n",
    "),\n",
    "top3_comissoes AS (\n",
    "    SELECT\n",
    "        vendedor,\n",
    "        valor\n",
    "    FROM ranked_comissoes\n",
    "    WHERE rn <= 3\n",
    "),\n",
    "vendedores_qualificados AS (\n",
    "    SELECT\n",
    "        vendedor,\n",
    "        COUNT(*) AS qtd_transferencias,\n",
    "        SUM(valor) AS total_recebido\n",
    "    FROM top3_comissoes\n",
    "    GROUP BY vendedor\n",
    "    HAVING qtd_transferencias <= 3 AND total_recebido >= 1024\n",
    ")\n",
    "SELECT vendedor\n",
    "FROM vendedores_qualificados\n",
    "ORDER BY vendedor ASC"
   ]
  },
  {
   "cell_type": "markdown",
   "metadata": {
    "application/vnd.databricks.v1+cell": {
     "cellMetadata": {},
     "inputWidgets": {},
     "nuid": "03dc99ec-0ab4-451a-8491-1ea53d24ebc6",
     "showTitle": false,
     "tableResultSettingsMap": {},
     "title": ""
    }
   },
   "source": [
    "### 1.3 Organização Empresarial\n",
    "---\n",
    "## 📋 Estrutura da Tabela\n",
    "\n",
    "```sql\n",
    "CREATE TABLE colaboradores (\n",
    "    id INTEGER NOT NULL,\n",
    "    nome VARCHAR NOT NULL,\n",
    "    salario INTEGER NOT NULL,\n",
    "    lider_id INTEGER,\n",
    "    UNIQUE(id)\n",
    ");\n",
    "````\n",
    "\n",
    "> *A coluna `lider` foi ajustada para receber dados nulos, por conta dos requisitos da questão.*\n",
    "\n",
    "---\n",
    "\n",
    "## 🧠 Desafio\n",
    "\n",
    "Para cada funcionário, retornar:\n",
    "\n",
    "* `id` do funcionário;\n",
    "* `id` do **chefe indireto** que:\n",
    "\n",
    "  * Ganha pelo menos o **dobro do salário** do funcionário;\n",
    "  * É um **chefe indireto** (ou seja, chefe do chefe, ou superior a isso);\n",
    "* Se **nenhum chefe indireto** atender a condição, o valor deve ser `NULL`.\n",
    "\n",
    "### 🧩 Definições\n",
    "\n",
    "* Um funcionário A é **chefe indireto** de B se:\n",
    "\n",
    "  * A é o chefe do chefe de B, ou do chefe do chefe do chefe... e assim por diante;\n",
    "* Não existem ciclos na hierarquia (garantido pelo enunciado);\n",
    "* O resultado deve ser ordenado por `id` do funcionário de forma crescente.\n",
    "\n",
    "---\n",
    "\n",
    "## 💡 Exemplo de Funcionários\n",
    "\n",
    "- Diagrama Hierárquico:\n",
    "\n",
    "```planText\n",
    "Marcos (20) - $ 10.000\n",
    "└── Leonardo (10) - $ 4.500\n",
    "    ├── Bruno (50) - $ 3.000 \n",
    "    │   ├── Helen  (40) - $ 1.500\n",
    "    │   └── Wilian (30) - $ 1.501\n",
    "    └── Mateus (70) - $ 1.500\n",
    "        └── Cinthia (60) $ 2.000\n",
    "```\n",
    "\n",
    "| Id | Nome     | Salário | Lider\\_Id |\n",
    "| -- | -------- | ------- | --------- |\n",
    "| 40 | Helen    | 1500    | 50        |\n",
    "| 50 | Bruno    | 3000    | 10        |\n",
    "| 10 | Leonardo | 4500    | 20        |\n",
    "| 20 | Marcos   | 10000   | NULL      |\n",
    "| 70 | Mateus   | 1500    | 10        |\n",
    "| 60 | Cinthia  | 2000    | 70        |\n",
    "| 30 | Wilian   | 1501    | 50        |\n",
    "\n",
    "---\n",
    "\n"
   ]
  },
  {
   "cell_type": "markdown",
   "metadata": {
    "application/vnd.databricks.v1+cell": {
     "cellMetadata": {},
     "inputWidgets": {},
     "nuid": "d2d9cda6-1430-426d-9600-f66f7135ec8e",
     "showTitle": false,
     "tableResultSettingsMap": {},
     "title": ""
    }
   },
   "source": [
    "#### 1.3.1 Cria tabelas no Databricks - com Unity Catalog"
   ]
  },
  {
   "cell_type": "code",
   "execution_count": 0,
   "metadata": {
    "application/vnd.databricks.v1+cell": {
     "cellMetadata": {
      "byteLimit": 2048000,
      "implicitDf": true,
      "rowLimit": 10000
     },
     "inputWidgets": {},
     "nuid": "a3eea2e5-bdbd-466e-8bea-078314c224a8",
     "showTitle": true,
     "tableResultSettingsMap": {},
     "title": "Create Table - Colaboradores"
    }
   },
   "outputs": [],
   "source": [
    "%sql\n",
    "USE datacraft_catalog.cantu;\n",
    "CREATE TABLE IF NOT EXISTS cantu.colaboradores (\n",
    "  id LONG NOT NULL, \n",
    "  nome STRING NOT NULL,\n",
    "  salario DOUBLE NOT NULL,\n",
    "  lider_id LONG,\n",
    "  PRIMARY KEY(id)\n",
    ");"
   ]
  },
  {
   "cell_type": "code",
   "execution_count": 0,
   "metadata": {
    "application/vnd.databricks.v1+cell": {
     "cellMetadata": {
      "byteLimit": 2048000,
      "implicitDf": true,
      "rowLimit": 10000
     },
     "inputWidgets": {},
     "nuid": "5ff20547-cd7b-4808-80e0-7b5df0c9bd9c",
     "showTitle": false,
     "tableResultSettingsMap": {},
     "title": ""
    }
   },
   "outputs": [],
   "source": [
    "# %sql\n",
    "# DROP TABLE cantu.colaboradores"
   ]
  },
  {
   "cell_type": "markdown",
   "metadata": {
    "application/vnd.databricks.v1+cell": {
     "cellMetadata": {},
     "inputWidgets": {},
     "nuid": "0b7d2698-2ccd-4132-93f5-adfb64607950",
     "showTitle": false,
     "tableResultSettingsMap": {},
     "title": ""
    }
   },
   "source": [
    "#### 1.1.2 Insere os dados nas tabelas no Databricks - com Unity Catalog"
   ]
  },
  {
   "cell_type": "code",
   "execution_count": 0,
   "metadata": {
    "application/vnd.databricks.v1+cell": {
     "cellMetadata": {
      "byteLimit": 2048000,
      "rowLimit": 10000
     },
     "inputWidgets": {},
     "nuid": "db22b86c-e815-496a-a863-ef2a4b10ea43",
     "showTitle": true,
     "tableResultSettingsMap": {},
     "title": "Gerar dados"
    }
   },
   "outputs": [],
   "source": [
    "# Define o schema\n",
    "schema = StructType([\n",
    "    StructField(\"id\", IntegerType(), False),\n",
    "    StructField(\"nome\", StringType(), False),\n",
    "    StructField(\"salario\", DoubleType(), False),\n",
    "    StructField(\"lider_id\", IntegerType(), True)\n",
    "])\n",
    "\n",
    "# Dados conforme a tabela da imagem\n",
    "dados_colaboradores = [\n",
    "    (40, \"Helen\",    1500, 50),\n",
    "    (50, \"Bruno\",    3000, 10),\n",
    "    (10, \"Leonardo\", 4500, 20),\n",
    "    (20, \"Marcos\",  10000, None),\n",
    "    (70, \"Mateus\",   1500, 10),\n",
    "    (60, \"Cinthia\",  2000, 70),\n",
    "    (30, \"Wilian\",   1501, 50),\n",
    "]\n",
    "\n",
    "# Cria o DataFrame\n",
    "df_colaboradores = spark.createDataFrame(dados_colaboradores, schema)\n",
    "\n",
    "# Exibe o conteúdo\n",
    "df_colaboradores.createOrReplaceTempView('temp_colaboradores')\n"
   ]
  },
  {
   "cell_type": "code",
   "execution_count": 0,
   "metadata": {
    "application/vnd.databricks.v1+cell": {
     "cellMetadata": {
      "byteLimit": 2048000,
      "implicitDf": true,
      "rowLimit": 10000
     },
     "inputWidgets": {},
     "nuid": "2fdf5a42-de98-4bf1-8a9f-594bcb94c56a",
     "showTitle": true,
     "tableResultSettingsMap": {},
     "title": "Inserir dados - Colaboradores"
    }
   },
   "outputs": [
    {
     "data": {
      "text/html": [
       "<style scoped>\n",
       "  .table-result-container {\n",
       "    max-height: 300px;\n",
       "    overflow: auto;\n",
       "  }\n",
       "  table, th, td {\n",
       "    border: 1px solid black;\n",
       "    border-collapse: collapse;\n",
       "  }\n",
       "  th, td {\n",
       "    padding: 5px;\n",
       "  }\n",
       "  th {\n",
       "    text-align: left;\n",
       "  }\n",
       "</style><div class='table-result-container'><table class='table-result'><thead style='background-color: white'><tr><th>num_affected_rows</th><th>num_inserted_rows</th></tr></thead><tbody><tr><td>7</td><td>7</td></tr></tbody></table></div>"
      ]
     },
     "metadata": {
      "application/vnd.databricks.v1+output": {
       "addedWidgets": {},
       "aggData": [],
       "aggError": "",
       "aggOverflow": false,
       "aggSchema": [],
       "aggSeriesLimitReached": false,
       "aggType": "",
       "arguments": {},
       "columnCustomDisplayInfos": {},
       "data": [
        [
         7,
         7
        ]
       ],
       "datasetInfos": [
        {
         "name": "_sqldf",
         "schema": {
          "fields": [
           {
            "metadata": {},
            "name": "num_affected_rows",
            "nullable": true,
            "type": "long"
           },
           {
            "metadata": {},
            "name": "num_inserted_rows",
            "nullable": true,
            "type": "long"
           }
          ],
          "type": "struct"
         },
         "tableIdentifier": null,
         "typeStr": "pyspark.sql.connect.dataframe.DataFrame"
        }
       ],
       "dbfsResultPath": null,
       "isJsonSchema": true,
       "metadata": {
        "createTempViewForImplicitDf": true,
        "dataframeName": "_sqldf",
        "executionCount": 17
       },
       "overflow": false,
       "plotOptions": {
        "customPlotOptions": {},
        "displayType": "table",
        "pivotAggregation": null,
        "pivotColumns": null,
        "xColumns": null,
        "yColumns": null
       },
       "removedWidgets": [],
       "schema": [
        {
         "metadata": "{}",
         "name": "num_affected_rows",
         "type": "\"long\""
        },
        {
         "metadata": "{}",
         "name": "num_inserted_rows",
         "type": "\"long\""
        }
       ],
       "type": "table"
      }
     },
     "output_type": "display_data"
    }
   ],
   "source": [
    "%sql\n",
    "INSERT INTO datacraft_catalog.cantu.colaboradores (\n",
    "    id, nome, salario, lider_id\n",
    "  )\n",
    "SELECT\n",
    "  id,\n",
    "  nome,\n",
    "  salario,\n",
    "  lider_id\n",
    "FROM temp_colaboradores"
   ]
  },
  {
   "cell_type": "code",
   "execution_count": 0,
   "metadata": {
    "application/vnd.databricks.v1+cell": {
     "cellMetadata": {
      "byteLimit": 2048000,
      "implicitDf": true,
      "rowLimit": 10000
     },
     "inputWidgets": {},
     "nuid": "ed0fd1f5-975d-4a85-aa38-5dc51ca06627",
     "showTitle": true,
     "tableResultSettingsMap": {},
     "title": "Query - Organização Empresarial"
    }
   },
   "outputs": [
    {
     "data": {
      "text/html": [
       "<style scoped>\n",
       "  .table-result-container {\n",
       "    max-height: 300px;\n",
       "    overflow: auto;\n",
       "  }\n",
       "  table, th, td {\n",
       "    border: 1px solid black;\n",
       "    border-collapse: collapse;\n",
       "  }\n",
       "  th, td {\n",
       "    padding: 5px;\n",
       "  }\n",
       "  th {\n",
       "    text-align: left;\n",
       "  }\n",
       "</style><div class='table-result-container'><table class='table-result'><thead style='background-color: white'><tr><th>id_funcionario</th><th>id_chefe_indireto</th></tr></thead><tbody><tr><td>10</td><td>null</td></tr><tr><td>20</td><td>null</td></tr><tr><td>30</td><td>10</td></tr><tr><td>40</td><td>10</td></tr><tr><td>50</td><td>20</td></tr><tr><td>60</td><td>10</td></tr><tr><td>70</td><td>20</td></tr></tbody></table></div>"
      ]
     },
     "metadata": {
      "application/vnd.databricks.v1+output": {
       "addedWidgets": {},
       "aggData": [],
       "aggError": "",
       "aggOverflow": false,
       "aggSchema": [],
       "aggSeriesLimitReached": false,
       "aggType": "",
       "arguments": {},
       "columnCustomDisplayInfos": {},
       "data": [
        [
         10,
         null
        ],
        [
         20,
         null
        ],
        [
         30,
         10
        ],
        [
         40,
         10
        ],
        [
         50,
         20
        ],
        [
         60,
         10
        ],
        [
         70,
         20
        ]
       ],
       "datasetInfos": [
        {
         "name": "_sqldf",
         "schema": {
          "fields": [
           {
            "metadata": {},
            "name": "id_funcionario",
            "nullable": false,
            "type": "long"
           },
           {
            "metadata": {},
            "name": "id_chefe_indireto",
            "nullable": true,
            "type": "long"
           }
          ],
          "type": "struct"
         },
         "tableIdentifier": null,
         "typeStr": "pyspark.sql.connect.dataframe.DataFrame"
        }
       ],
       "dbfsResultPath": null,
       "isJsonSchema": true,
       "metadata": {
        "createTempViewForImplicitDf": true,
        "dataframeName": "_sqldf",
        "executionCount": 66
       },
       "overflow": false,
       "plotOptions": {
        "customPlotOptions": {},
        "displayType": "table",
        "pivotAggregation": null,
        "pivotColumns": null,
        "xColumns": null,
        "yColumns": null
       },
       "removedWidgets": [],
       "schema": [
        {
         "metadata": "{}",
         "name": "id_funcionario",
         "type": "\"long\""
        },
        {
         "metadata": "{}",
         "name": "id_chefe_indireto",
         "type": "\"long\""
        }
       ],
       "type": "table"
      }
     },
     "output_type": "display_data"
    }
   ],
   "source": [
    "%sql\n",
    "WITH chefe_direto AS (\n",
    "  -- Retorna o chefe direto de cada funcionário\n",
    "  SELECT\n",
    "    id,\n",
    "    nome,\n",
    "    salario,\n",
    "    lider_id as id_chefe_direto\n",
    "  FROM datacraft_catalog.cantu.colaboradores\n",
    "), chefe_indireto AS (\n",
    "  -- Retorna o chefe indireto de cada funcionário\n",
    "  SELECT\n",
    "    chefe_direto.*,\n",
    "    chefe.nome as nome_chefe_direto,\n",
    "    chefe.salario as salario_chefe_direto,\n",
    "    chefe.lider_id as id_chefe_indireto\n",
    "  FROM chefe_direto\n",
    "  LEFT JOIN datacraft_catalog.cantu.colaboradores AS chefe ON chefe.id = chefe_direto.id_chefe_direto\n",
    ")\n",
    "-- retorna o id_funcionario e o id_do_chefe_indireto\n",
    "SELECT\n",
    "  id as id_funcionario,\n",
    "  id_chefe_indireto\n",
    "FROM chefe_indireto\n",
    "ORDER BY 1"
   ]
  }
 ],
 "metadata": {
  "application/vnd.databricks.v1+notebook": {
   "computePreferences": null,
   "dashboards": [],
   "environmentMetadata": {
    "base_environment": "",
    "environment_version": "2"
   },
   "inputWidgetPreferences": null,
   "language": "python",
   "notebookMetadata": {
    "mostRecentlyExecutedCommandWithImplicitDF": {
     "commandId": 8188004525239362,
     "dataframes": [
      "_sqldf"
     ]
    },
    "pythonIndentUnit": 4
   },
   "notebookName": "Parte 1 - SQL",
   "widgets": {}
  },
  "language_info": {
   "name": "python"
  }
 },
 "nbformat": 4,
 "nbformat_minor": 0
}
